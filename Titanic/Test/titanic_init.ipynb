{
 "cells": [
  {
   "cell_type": "code",
   "execution_count": 5,
   "metadata": {},
   "outputs": [],
   "source": [
    "import matplotlib.pyplot as plt\n",
    "import pandas as pd\n",
    "import numpy as np\n",
    "from sklearn import preprocessing\n",
    "from sklearn.model_selection import train_test_split"
   ]
  },
  {
   "cell_type": "code",
   "execution_count": 6,
   "metadata": {},
   "outputs": [],
   "source": [
    "# Load the datasets\n",
    "df_train = pd.read_csv('train.csv')\n",
    "df_test = pd.read_csv('test.csv')"
   ]
  },
  {
   "cell_type": "code",
   "execution_count": 7,
   "metadata": {},
   "outputs": [],
   "source": [
    "#Preprocessing\n",
    "#dropping NaN features\n",
    "df_train = df_train.dropna()\n",
    "#initialising y vector\n",
    "y = np.array(df_train['Survived']).reshape(-1,1)\n",
    "#dropping Irrelivent data - Ticket & Cabin to be added later\n",
    "df_train_main = df_train.drop(['Survived', 'PassengerId', 'Name', 'Ticket', 'Cabin'], axis = 1)\n",
    "#one-hot encoding catagorical features\n",
    "oh_sex = pd.get_dummies(df_train_main['Sex'], drop_first=True, dtype=int)\n",
    "oh_embarked = pd.get_dummies(df_train_main['Embarked'], drop_first=True, dtype=int)\n",
    "#dropping catagorical features\n",
    "df_train_main = df_train_main.drop(['Sex', 'Embarked'], axis = 1)\n",
    "#converting to numpy and scaling data\n",
    "oh_sex = oh_sex.to_numpy()\n",
    "oh_embarked = oh_embarked.to_numpy()\n",
    "X = df_train_main.to_numpy()\n",
    "X_scale = preprocessing.scale(X)\n",
    "#Concatinating data and adding bias column\n",
    "bias = np.ones((X_scale.shape[0], 1))\n",
    "Phi = np.hstack((bias, oh_sex, oh_embarked, X_scale))"
   ]
  },
  {
   "cell_type": "code",
   "execution_count": 8,
   "metadata": {},
   "outputs": [],
   "source": [
    "#Splitting data for validation\n",
    "#80/20 split between training and rest of data\n",
    "[Phi_train, Phi_rest, y_train, y_rest] = train_test_split(Phi, y, test_size = .2)\n",
    "#50/50 split between validation and test data\n",
    "[Phi_val, Phi_test, y_val, y_test] = train_test_split(Phi_rest, y_rest, test_size = .5)"
   ]
  },
  {
   "cell_type": "code",
   "execution_count": null,
   "metadata": {},
   "outputs": [],
   "source": []
  }
 ],
 "metadata": {
  "kernelspec": {
   "display_name": "Python 3",
   "language": "python",
   "name": "python3"
  },
  "language_info": {
   "codemirror_mode": {
    "name": "ipython",
    "version": 3
   },
   "file_extension": ".py",
   "mimetype": "text/x-python",
   "name": "python",
   "nbconvert_exporter": "python",
   "pygments_lexer": "ipython3",
   "version": "3.12.3"
  },
  "orig_nbformat": 4
 },
 "nbformat": 4,
 "nbformat_minor": 2
}
